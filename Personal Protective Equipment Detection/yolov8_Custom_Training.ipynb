{
  "cells": [
    {
      "cell_type": "code",
      "execution_count": null,
      "metadata": {
        "id": "3sZ-vOCag6fz"
      },
      "outputs": [],
      "source": [
        "! nvidia-smi"
      ]
    },
    {
      "cell_type": "code",
      "execution_count": null,
      "metadata": {
        "id": "57y1aIYQk96x"
      },
      "outputs": [],
      "source": [
        "!pip install ultralytics"
      ]
    },
    {
      "cell_type": "code",
      "execution_count": null,
      "metadata": {
        "id": "YDDJppQTlKWX"
      },
      "outputs": [],
      "source": [
        "from ultralytics import YOLO"
      ]
    },
    {
      "cell_type": "code",
      "execution_count": null,
      "metadata": {
        "colab": {
          "base_uri": "https://localhost:8080/"
        },
        "id": "xlAl4l__lSoI",
        "outputId": "cecd95f1-506e-4d35-9d70-ded07e301b07"
      },
      "outputs": [],
      "source": [
        "!yolo task=detect mode=predict model=yolov8l.pt conf=0.25 source='https://ultralytics.com/images/bus.jpg'"
      ]
    },
    {
      "cell_type": "markdown",
      "metadata": {
        "id": "JqPvajksmEyb"
      },
      "source": [
        "# **Custom Training**"
      ]
    },
    {
      "cell_type": "code",
      "execution_count": null,
      "metadata": {
        "colab": {
          "base_uri": "https://localhost:8080/"
        },
        "id": "DMa7sP1GmLg2",
        "outputId": "73fa5bbe-f4ae-453b-89e5-3756657402e0"
      },
      "outputs": [],
      "source": [
        "!yolo task=detect mode=train model=yolov8l.pt data='/content/drive/MyDrive/ConstructionSafetyDataset/data.yaml' epochs=100 imgsz=640"
      ]
    }
  ],
  "metadata": {
    "accelerator": "GPU",
    "colab": {
      "gpuType": "T4",
      "provenance": []
    },
    "kernelspec": {
      "display_name": "Python 3",
      "name": "python3"
    },
    "language_info": {
      "name": "python"
    }
  },
  "nbformat": 4,
  "nbformat_minor": 0
}
